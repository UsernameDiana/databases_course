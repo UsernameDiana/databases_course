{
 "cells": [
  {
   "cell_type": "code",
   "execution_count": 2,
   "metadata": {},
   "outputs": [
    {
     "name": "stdout",
     "output_type": "stream",
     "text": [
      "The sql extension is already loaded. To reload it, use:\n",
      "  %reload_ext sql\n"
     ]
    },
    {
     "data": {
      "text/plain": [
       "'Connected: appdev@appdev'"
      ]
     },
     "execution_count": 2,
     "metadata": {},
     "output_type": "execute_result"
    }
   ],
   "source": [
    "%load_ext sql\n",
    "%sql postgresql://appdev@data/appdev"
   ]
  },
  {
   "cell_type": "markdown",
   "metadata": {},
   "source": [
    "# Materialised joins"
   ]
  },
  {
   "cell_type": "markdown",
   "metadata": {},
   "source": [
    "## 1. `circuits` table report:"
   ]
  },
  {
   "cell_type": "markdown",
   "metadata": {},
   "source": [
    "The view pg_indexes provides access to useful information about each index in the database."
   ]
  },
  {
   "cell_type": "code",
   "execution_count": 87,
   "metadata": {},
   "outputs": [
    {
     "name": "stdout",
     "output_type": "stream",
     "text": [
      "3 rows affected.\n"
     ]
    },
    {
     "data": {
      "text/html": [
       "<table>\n",
       "    <tr>\n",
       "        <th>schemaname</th>\n",
       "        <th>tablename</th>\n",
       "        <th>indexname</th>\n",
       "        <th>tablespace</th>\n",
       "        <th>indexdef</th>\n",
       "    </tr>\n",
       "    <tr>\n",
       "        <td>f1db</td>\n",
       "        <td>circuits</td>\n",
       "        <td>idx_17102_url</td>\n",
       "        <td>None</td>\n",
       "        <td>CREATE UNIQUE INDEX idx_17102_url ON circuits USING btree (url)</td>\n",
       "    </tr>\n",
       "    <tr>\n",
       "        <td>f1db</td>\n",
       "        <td>circuits</td>\n",
       "        <td>circuits_position_idx</td>\n",
       "        <td>None</td>\n",
       "        <td>CREATE INDEX circuits_position_idx ON circuits USING gist (&quot;position&quot;)</td>\n",
       "    </tr>\n",
       "    <tr>\n",
       "        <td>f1db</td>\n",
       "        <td>circuits</td>\n",
       "        <td>idx_17102_primary</td>\n",
       "        <td>None</td>\n",
       "        <td>CREATE UNIQUE INDEX idx_17102_primary ON circuits USING btree (circuitid)</td>\n",
       "    </tr>\n",
       "</table>"
      ],
      "text/plain": [
       "[('f1db', 'circuits', 'idx_17102_url', None, 'CREATE UNIQUE INDEX idx_17102_url ON circuits USING btree (url)'),\n",
       " ('f1db', 'circuits', 'circuits_position_idx', None, 'CREATE INDEX circuits_position_idx ON circuits USING gist (\"position\")'),\n",
       " ('f1db', 'circuits', 'idx_17102_primary', None, 'CREATE UNIQUE INDEX idx_17102_primary ON circuits USING btree (circuitid)')]"
      ]
     },
     "execution_count": 87,
     "metadata": {},
     "output_type": "execute_result"
    }
   ],
   "source": [
    "%sql select * from pg_indexes where tablename = 'circuits';"
   ]
  },
  {
   "cell_type": "markdown",
   "metadata": {},
   "source": [
    "* Type of indices and why they are of that type?"
   ]
  },
  {
   "cell_type": "markdown",
   "metadata": {},
   "source": [
    "`idx_17102_url` index is of btree (url)"
   ]
  },
  {
   "cell_type": "markdown",
   "metadata": {},
   "source": [
    "BTREE is the default index type for most storage engines.\n",
    "The general idea of a B-Tree is that all the values are stored in order, and each leaf page is the same distance from the root. B Tree index speeds up the data access because storage engine don't have to scan the whole table instead it will start from root node."
   ]
  },
  {
   "cell_type": "markdown",
   "metadata": {},
   "source": [
    "`circuits_position_idx` index is of gist (\"position\")"
   ]
  },
  {
   "cell_type": "markdown",
   "metadata": {},
   "source": [
    "GIST allows to generalise the search structures, so we can build indexes on type we choose. In this case GIST index is with <key, pointer> pairs using position instead of integers (like in B-trees)."
   ]
  },
  {
   "cell_type": "markdown",
   "metadata": {},
   "source": [
    "`idx_17102_primary` index is of btree (circuitid)"
   ]
  },
  {
   "cell_type": "markdown",
   "metadata": {},
   "source": [
    "In this case index is of BTREE on `circuitid` column."
   ]
  },
  {
   "cell_type": "markdown",
   "metadata": {},
   "source": [
    "* The amount of space each index takes up?"
   ]
  },
  {
   "cell_type": "code",
   "execution_count": 97,
   "metadata": {},
   "outputs": [
    {
     "name": "stdout",
     "output_type": "stream",
     "text": [
      "1 rows affected.\n"
     ]
    },
    {
     "data": {
      "text/html": [
       "<table>\n",
       "    <tr>\n",
       "        <th>pg_size_pretty</th>\n",
       "    </tr>\n",
       "    <tr>\n",
       "        <td>16 kB</td>\n",
       "    </tr>\n",
       "</table>"
      ],
      "text/plain": [
       "[('16 kB',)]"
      ]
     },
     "execution_count": 97,
     "metadata": {},
     "output_type": "execute_result"
    }
   ],
   "source": [
    "%sql select pg_size_pretty(pg_relation_size('idx_17102_url'));"
   ]
  },
  {
   "cell_type": "code",
   "execution_count": 92,
   "metadata": {},
   "outputs": [
    {
     "name": "stdout",
     "output_type": "stream",
     "text": [
      "1 rows affected.\n"
     ]
    },
    {
     "data": {
      "text/html": [
       "<table>\n",
       "    <tr>\n",
       "        <th>pg_size_pretty</th>\n",
       "    </tr>\n",
       "    <tr>\n",
       "        <td>8192 bytes</td>\n",
       "    </tr>\n",
       "</table>"
      ],
      "text/plain": [
       "[('8192 bytes',)]"
      ]
     },
     "execution_count": 92,
     "metadata": {},
     "output_type": "execute_result"
    }
   ],
   "source": [
    "%sql select pg_size_pretty(pg_relation_size('circuits_position_idx'));"
   ]
  },
  {
   "cell_type": "code",
   "execution_count": 93,
   "metadata": {},
   "outputs": [
    {
     "name": "stdout",
     "output_type": "stream",
     "text": [
      "1 rows affected.\n"
     ]
    },
    {
     "data": {
      "text/html": [
       "<table>\n",
       "    <tr>\n",
       "        <th>pg_size_pretty</th>\n",
       "    </tr>\n",
       "    <tr>\n",
       "        <td>16 kB</td>\n",
       "    </tr>\n",
       "</table>"
      ],
      "text/plain": [
       "[('16 kB',)]"
      ]
     },
     "execution_count": 93,
     "metadata": {},
     "output_type": "execute_result"
    }
   ],
   "source": [
    "%sql select pg_size_pretty(pg_relation_size('idx_17102_primary'));"
   ]
  },
  {
   "cell_type": "markdown",
   "metadata": {},
   "source": [
    "## 2. Query of race winners"
   ]
  },
  {
   "cell_type": "markdown",
   "metadata": {},
   "source": [
    "The query should return winner of all the races, but only if they are younger than 38 years:\n",
    "* the date, \n",
    "* driver surname, \n",
    "* driver age, \n",
    "* track time in milliseconds, \n",
    "* race name,\n",
    "* circuit name for all races."
   ]
  },
  {
   "cell_type": "code",
   "execution_count": 232,
   "metadata": {},
   "outputs": [
    {
     "name": "stdout",
     "output_type": "stream",
     "text": [
      "10 rows affected.\n"
     ]
    },
    {
     "data": {
      "text/html": [
       "<table>\n",
       "    <tr>\n",
       "        <th>date</th>\n",
       "        <th>Driver&#x27;s Surname</th>\n",
       "        <th>Driver&#x27;s Age</th>\n",
       "        <th>Track Time(ms)</th>\n",
       "        <th>Name</th>\n",
       "        <th>Circuit Name</th>\n",
       "    </tr>\n",
       "    <tr>\n",
       "        <td>2008-03-16</td>\n",
       "        <td>Kovalainen</td>\n",
       "        <td>36.0</td>\n",
       "        <td>04:30:00</td>\n",
       "        <td>Australian Grand Prix</td>\n",
       "        <td>Albert Park Grand Prix Circuit</td>\n",
       "    </tr>\n",
       "    <tr>\n",
       "        <td>2008-04-06</td>\n",
       "        <td>Kovalainen</td>\n",
       "        <td>36.0</td>\n",
       "        <td>11:30:00</td>\n",
       "        <td>Bahrain Grand Prix</td>\n",
       "        <td>Bahrain International Circuit</td>\n",
       "    </tr>\n",
       "    <tr>\n",
       "        <td>2008-08-24</td>\n",
       "        <td>Massa</td>\n",
       "        <td>36.0</td>\n",
       "        <td>12:00:00</td>\n",
       "        <td>European Grand Prix</td>\n",
       "        <td>Valencia Street Circuit</td>\n",
       "    </tr>\n",
       "    <tr>\n",
       "        <td>2008-10-12</td>\n",
       "        <td>Massa</td>\n",
       "        <td>36.0</td>\n",
       "        <td>04:30:00</td>\n",
       "        <td>Japanese Grand Prix</td>\n",
       "        <td>Fuji Speedway</td>\n",
       "    </tr>\n",
       "    <tr>\n",
       "        <td>2008-10-19</td>\n",
       "        <td>Hamilton</td>\n",
       "        <td>33.0</td>\n",
       "        <td>07:00:00</td>\n",
       "        <td>Chinese Grand Prix</td>\n",
       "        <td>Shanghai International Circuit</td>\n",
       "    </tr>\n",
       "    <tr>\n",
       "        <td>2008-11-02</td>\n",
       "        <td>Massa</td>\n",
       "        <td>36.0</td>\n",
       "        <td>17:00:00</td>\n",
       "        <td>Brazilian Grand Prix</td>\n",
       "        <td>Autódromo José Carlos Pace</td>\n",
       "    </tr>\n",
       "    <tr>\n",
       "        <td>2007-04-08</td>\n",
       "        <td>Hamilton</td>\n",
       "        <td>33.0</td>\n",
       "        <td>07:00:00</td>\n",
       "        <td>Malaysian Grand Prix</td>\n",
       "        <td>Sepang International Circuit</td>\n",
       "    </tr>\n",
       "    <tr>\n",
       "        <td>2007-04-15</td>\n",
       "        <td>Massa</td>\n",
       "        <td>36.0</td>\n",
       "        <td>11:30:00</td>\n",
       "        <td>Bahrain Grand Prix</td>\n",
       "        <td>Bahrain International Circuit</td>\n",
       "    </tr>\n",
       "    <tr>\n",
       "        <td>2007-05-13</td>\n",
       "        <td>Massa</td>\n",
       "        <td>36.0</td>\n",
       "        <td>12:00:00</td>\n",
       "        <td>Spanish Grand Prix</td>\n",
       "        <td>Circuit de Barcelona-Catalunya</td>\n",
       "    </tr>\n",
       "    <tr>\n",
       "        <td>2007-05-27</td>\n",
       "        <td>Alonso</td>\n",
       "        <td>36.0</td>\n",
       "        <td>12:00:00</td>\n",
       "        <td>Monaco Grand Prix</td>\n",
       "        <td>Circuit de Monaco</td>\n",
       "    </tr>\n",
       "</table>"
      ],
      "text/plain": [
       "[(datetime.date(2008, 3, 16), 'Kovalainen', 36.0, datetime.time(4, 30), 'Australian Grand Prix', 'Albert Park Grand Prix Circuit'),\n",
       " (datetime.date(2008, 4, 6), 'Kovalainen', 36.0, datetime.time(11, 30), 'Bahrain Grand Prix', 'Bahrain International Circuit'),\n",
       " (datetime.date(2008, 8, 24), 'Massa', 36.0, datetime.time(12, 0), 'European Grand Prix', 'Valencia Street Circuit'),\n",
       " (datetime.date(2008, 10, 12), 'Massa', 36.0, datetime.time(4, 30), 'Japanese Grand Prix', 'Fuji Speedway'),\n",
       " (datetime.date(2008, 10, 19), 'Hamilton', 33.0, datetime.time(7, 0), 'Chinese Grand Prix', 'Shanghai International Circuit'),\n",
       " (datetime.date(2008, 11, 2), 'Massa', 36.0, datetime.time(17, 0), 'Brazilian Grand Prix', 'Autódromo José Carlos Pace'),\n",
       " (datetime.date(2007, 4, 8), 'Hamilton', 33.0, datetime.time(7, 0), 'Malaysian Grand Prix', 'Sepang International Circuit'),\n",
       " (datetime.date(2007, 4, 15), 'Massa', 36.0, datetime.time(11, 30), 'Bahrain Grand Prix', 'Bahrain International Circuit'),\n",
       " (datetime.date(2007, 5, 13), 'Massa', 36.0, datetime.time(12, 0), 'Spanish Grand Prix', 'Circuit de Barcelona-Catalunya'),\n",
       " (datetime.date(2007, 5, 27), 'Alonso', 36.0, datetime.time(12, 0), 'Monaco Grand Prix', 'Circuit de Monaco')]"
      ]
     },
     "execution_count": 232,
     "metadata": {},
     "output_type": "execute_result"
    }
   ],
   "source": [
    "%%sql\n",
    "SELECT races.date, drivers.surname as \"Driver's Surname\", \n",
    "date_part('year', age('2018-03-19',dob)) as \"Driver's Age\", \n",
    "races.time as \"Track Time(ms)\", \n",
    "races.name as \"Name\", \n",
    "circuits.name as \"Circuit Name\" \n",
    "FROM results\n",
    "JOIN drivers USING (driverid)\n",
    "JOIN races USING (raceId)\n",
    "JOIN circuits USING (circuitid)\n",
    "WHERE results.rank = 1\n",
    "AND date_part('year', age('2018-03-19',dob)) < 38\n",
    "LIMIT 10;"
   ]
  },
  {
   "cell_type": "markdown",
   "metadata": {},
   "source": [
    "## 3. Describe the query using EXPLAIN ANALYZE ."
   ]
  },
  {
   "cell_type": "code",
   "execution_count": 231,
   "metadata": {},
   "outputs": [
    {
     "name": "stdout",
     "output_type": "stream",
     "text": [
      "22 rows affected.\n"
     ]
    },
    {
     "data": {
      "text/html": [
       "<table>\n",
       "    <tr>\n",
       "        <th>QUERY PLAN</th>\n",
       "    </tr>\n",
       "    <tr>\n",
       "        <td>Hash Join  (cost=77.92..792.94 rows=86 width=66) (actual time=17.358..28.367 rows=154 loops=1)</td>\n",
       "    </tr>\n",
       "    <tr>\n",
       "        <td>&nbsp;&nbsp;Hash Cond: (races.circuitid = circuits.circuitid)</td>\n",
       "    </tr>\n",
       "    <tr>\n",
       "        <td>&nbsp;&nbsp;-&gt;  Hash Join  (cost=74.28..787.57 rows=86 width=50) (actual time=16.210..25.429 rows=154 loops=1)</td>\n",
       "    </tr>\n",
       "    <tr>\n",
       "        <td>&nbsp;&nbsp;&nbsp;&nbsp;&nbsp;&nbsp;&nbsp;&nbsp;Hash Cond: (results.raceid = races.raceid)</td>\n",
       "    </tr>\n",
       "    <tr>\n",
       "        <td>&nbsp;&nbsp;&nbsp;&nbsp;&nbsp;&nbsp;&nbsp;&nbsp;-&gt;  Hash Join  (cost=34.32..746.53 rows=86 width=19) (actual time=1.030..8.539 rows=154 loops=1)</td>\n",
       "    </tr>\n",
       "    <tr>\n",
       "        <td>&nbsp;&nbsp;&nbsp;&nbsp;&nbsp;&nbsp;&nbsp;&nbsp;&nbsp;&nbsp;&nbsp;&nbsp;&nbsp;&nbsp;Hash Cond: (results.driverid = drivers.driverid)</td>\n",
       "    </tr>\n",
       "    <tr>\n",
       "        <td>&nbsp;&nbsp;&nbsp;&nbsp;&nbsp;&nbsp;&nbsp;&nbsp;&nbsp;&nbsp;&nbsp;&nbsp;&nbsp;&nbsp;-&gt;  Seq Scan on results  (cost=0.00..708.96 rows=257 width=16) (actual time=0.015..5.321 rows=257 loops=1)</td>\n",
       "    </tr>\n",
       "    <tr>\n",
       "        <td>&nbsp;&nbsp;&nbsp;&nbsp;&nbsp;&nbsp;&nbsp;&nbsp;&nbsp;&nbsp;&nbsp;&nbsp;&nbsp;&nbsp;&nbsp;&nbsp;&nbsp;&nbsp;&nbsp;&nbsp;Filter: (rank = 1)</td>\n",
       "    </tr>\n",
       "    <tr>\n",
       "        <td>&nbsp;&nbsp;&nbsp;&nbsp;&nbsp;&nbsp;&nbsp;&nbsp;&nbsp;&nbsp;&nbsp;&nbsp;&nbsp;&nbsp;&nbsp;&nbsp;&nbsp;&nbsp;&nbsp;&nbsp;Rows Removed by Filter: 23420</td>\n",
       "    </tr>\n",
       "    <tr>\n",
       "        <td>&nbsp;&nbsp;&nbsp;&nbsp;&nbsp;&nbsp;&nbsp;&nbsp;&nbsp;&nbsp;&nbsp;&nbsp;&nbsp;&nbsp;-&gt;  Hash  (cost=30.82..30.82 rows=280 width=19) (actual time=0.984..0.984 rows=60 loops=1)</td>\n",
       "    </tr>\n",
       "    <tr>\n",
       "        <td>&nbsp;&nbsp;&nbsp;&nbsp;&nbsp;&nbsp;&nbsp;&nbsp;&nbsp;&nbsp;&nbsp;&nbsp;&nbsp;&nbsp;&nbsp;&nbsp;&nbsp;&nbsp;&nbsp;&nbsp;Buckets: 1024  Batches: 1  Memory Usage: 12kB</td>\n",
       "    </tr>\n",
       "    <tr>\n",
       "        <td>&nbsp;&nbsp;&nbsp;&nbsp;&nbsp;&nbsp;&nbsp;&nbsp;&nbsp;&nbsp;&nbsp;&nbsp;&nbsp;&nbsp;&nbsp;&nbsp;&nbsp;&nbsp;&nbsp;&nbsp;-&gt;  Seq Scan on drivers  (cost=0.00..30.82 rows=280 width=19) (actual time=0.018..0.696 rows=60 loops=1)</td>\n",
       "    </tr>\n",
       "    <tr>\n",
       "        <td>&nbsp;&nbsp;&nbsp;&nbsp;&nbsp;&nbsp;&nbsp;&nbsp;&nbsp;&nbsp;&nbsp;&nbsp;&nbsp;&nbsp;&nbsp;&nbsp;&nbsp;&nbsp;&nbsp;&nbsp;&nbsp;&nbsp;&nbsp;&nbsp;&nbsp;&nbsp;Filter: (date_part(&#x27;year&#x27;::text, age(&#x27;2018-03-19 00:00:00+00&#x27;::timestamp with time zone, (dob)::timestamp with time zone)) &lt; &#x27;38&#x27;::double precision)</td>\n",
       "    </tr>\n",
       "    <tr>\n",
       "        <td>&nbsp;&nbsp;&nbsp;&nbsp;&nbsp;&nbsp;&nbsp;&nbsp;&nbsp;&nbsp;&nbsp;&nbsp;&nbsp;&nbsp;&nbsp;&nbsp;&nbsp;&nbsp;&nbsp;&nbsp;&nbsp;&nbsp;&nbsp;&nbsp;&nbsp;&nbsp;Rows Removed by Filter: 781</td>\n",
       "    </tr>\n",
       "    <tr>\n",
       "        <td>&nbsp;&nbsp;&nbsp;&nbsp;&nbsp;&nbsp;&nbsp;&nbsp;-&gt;  Hash  (cost=27.76..27.76 rows=976 width=47) (actual time=15.134..15.134 rows=976 loops=1)</td>\n",
       "    </tr>\n",
       "    <tr>\n",
       "        <td>&nbsp;&nbsp;&nbsp;&nbsp;&nbsp;&nbsp;&nbsp;&nbsp;&nbsp;&nbsp;&nbsp;&nbsp;&nbsp;&nbsp;Buckets: 1024  Batches: 1  Memory Usage: 83kB</td>\n",
       "    </tr>\n",
       "    <tr>\n",
       "        <td>&nbsp;&nbsp;&nbsp;&nbsp;&nbsp;&nbsp;&nbsp;&nbsp;&nbsp;&nbsp;&nbsp;&nbsp;&nbsp;&nbsp;-&gt;  Seq Scan on races  (cost=0.00..27.76 rows=976 width=47) (actual time=0.024..7.662 rows=976 loops=1)</td>\n",
       "    </tr>\n",
       "    <tr>\n",
       "        <td>&nbsp;&nbsp;-&gt;  Hash  (cost=2.73..2.73 rows=73 width=28) (actual time=1.108..1.108 rows=73 loops=1)</td>\n",
       "    </tr>\n",
       "    <tr>\n",
       "        <td>&nbsp;&nbsp;&nbsp;&nbsp;&nbsp;&nbsp;&nbsp;&nbsp;Buckets: 1024  Batches: 1  Memory Usage: 13kB</td>\n",
       "    </tr>\n",
       "    <tr>\n",
       "        <td>&nbsp;&nbsp;&nbsp;&nbsp;&nbsp;&nbsp;&nbsp;&nbsp;-&gt;  Seq Scan on circuits  (cost=0.00..2.73 rows=73 width=28) (actual time=0.013..0.504 rows=73 loops=1)</td>\n",
       "    </tr>\n",
       "    <tr>\n",
       "        <td>Planning time: 0.458 ms</td>\n",
       "    </tr>\n",
       "    <tr>\n",
       "        <td>Execution time: 29.298 ms</td>\n",
       "    </tr>\n",
       "</table>"
      ],
      "text/plain": [
       "[('Hash Join  (cost=77.92..792.94 rows=86 width=66) (actual time=17.358..28.367 rows=154 loops=1)',),\n",
       " ('  Hash Cond: (races.circuitid = circuits.circuitid)',),\n",
       " ('  ->  Hash Join  (cost=74.28..787.57 rows=86 width=50) (actual time=16.210..25.429 rows=154 loops=1)',),\n",
       " ('        Hash Cond: (results.raceid = races.raceid)',),\n",
       " ('        ->  Hash Join  (cost=34.32..746.53 rows=86 width=19) (actual time=1.030..8.539 rows=154 loops=1)',),\n",
       " ('              Hash Cond: (results.driverid = drivers.driverid)',),\n",
       " ('              ->  Seq Scan on results  (cost=0.00..708.96 rows=257 width=16) (actual time=0.015..5.321 rows=257 loops=1)',),\n",
       " ('                    Filter: (rank = 1)',),\n",
       " ('                    Rows Removed by Filter: 23420',),\n",
       " ('              ->  Hash  (cost=30.82..30.82 rows=280 width=19) (actual time=0.984..0.984 rows=60 loops=1)',),\n",
       " ('                    Buckets: 1024  Batches: 1  Memory Usage: 12kB',),\n",
       " ('                    ->  Seq Scan on drivers  (cost=0.00..30.82 rows=280 width=19) (actual time=0.018..0.696 rows=60 loops=1)',),\n",
       " (\"                          Filter: (date_part('year'::text, age('2018-03-19 00:00:00+00'::timestamp with time zone, (dob)::timestamp with time zone)) < '38'::double precision)\",),\n",
       " ('                          Rows Removed by Filter: 781',),\n",
       " ('        ->  Hash  (cost=27.76..27.76 rows=976 width=47) (actual time=15.134..15.134 rows=976 loops=1)',),\n",
       " ('              Buckets: 1024  Batches: 1  Memory Usage: 83kB',),\n",
       " ('              ->  Seq Scan on races  (cost=0.00..27.76 rows=976 width=47) (actual time=0.024..7.662 rows=976 loops=1)',),\n",
       " ('  ->  Hash  (cost=2.73..2.73 rows=73 width=28) (actual time=1.108..1.108 rows=73 loops=1)',),\n",
       " ('        Buckets: 1024  Batches: 1  Memory Usage: 13kB',),\n",
       " ('        ->  Seq Scan on circuits  (cost=0.00..2.73 rows=73 width=28) (actual time=0.013..0.504 rows=73 loops=1)',),\n",
       " ('Planning time: 0.458 ms',),\n",
       " ('Execution time: 29.298 ms',)]"
      ]
     },
     "execution_count": 231,
     "metadata": {},
     "output_type": "execute_result"
    }
   ],
   "source": [
    "%%sql EXPLAIN ANALYZE \n",
    "SELECT races.date, drivers.surname as \"Driver's Surname\", \n",
    "date_part('year', age('2018-03-19',dob)) as \"Driver's Age\", \n",
    "races.time as \"Track Time(ms)\", \n",
    "races.name as \"Name\", \n",
    "circuits.name as \"Circuit Name\" \n",
    "FROM results\n",
    "JOIN drivers USING (driverid)\n",
    "JOIN races USING (raceId)\n",
    "JOIN circuits USING (circuitid)\n",
    "WHERE results.rank = 1\n",
    "AND date_part('year', age('2018-03-19',dob)) < 38;"
   ]
  },
  {
   "cell_type": "markdown",
   "metadata": {},
   "source": [
    "* How many calls are you making?"
   ]
  },
  {
   "cell_type": "markdown",
   "metadata": {},
   "source": [
    "Here we can see that there are 10 arrows which means there are 10 calls made from the EXPLAIN ANALYZE call. This command displays the execution plan than shows how the table(s) referenced by the statement will be scanned.  \n",
    "In this case multiple tables are referenced with join algorithms, that will be used to bring together the required rows from each input table.  \n",
    "The most critical part of the display is the estimated statement execution cost, which is the planner's guess at how long it will take to run the statement."
   ]
  },
  {
   "cell_type": "markdown",
   "metadata": {},
   "source": [
    "* How long does it take to perform the query?"
   ]
  },
  {
   "cell_type": "markdown",
   "metadata": {},
   "source": [
    "The last line displays the execution time coming from  ANALYZE command.  For each time running the query, the execution time varies.  \n",
    "`Execution time: 29.298 ms`"
   ]
  },
  {
   "cell_type": "markdown",
   "metadata": {},
   "source": [
    "## 4. Materialized view of your query."
   ]
  },
  {
   "cell_type": "markdown",
   "metadata": {},
   "source": [
    "Using EXPLAIN ANALYZE try to query the view. Write at least 5 lines of text explaining what's going on and why the query execution time changed."
   ]
  },
  {
   "cell_type": "code",
   "execution_count": 233,
   "metadata": {
    "scrolled": true
   },
   "outputs": [
    {
     "name": "stdout",
     "output_type": "stream",
     "text": [
      "Done.\n"
     ]
    },
    {
     "data": {
      "text/plain": [
       "[]"
      ]
     },
     "execution_count": 233,
     "metadata": {},
     "output_type": "execute_result"
    }
   ],
   "source": [
    "%%sql CREATE VIEW race_winners AS\n",
    "SELECT races.date, drivers.surname as \"Driver's Surname\", \n",
    "date_part('year', age('2018-03-19',dob)) as \"Driver's Age\", \n",
    "races.time as \"Track Time(ms)\", \n",
    "races.name as \"Name\", \n",
    "circuits.name as \"Circuit Name\" \n",
    "FROM results\n",
    "JOIN drivers USING (driverid)\n",
    "JOIN races USING (raceId)\n",
    "JOIN circuits USING (circuitid)\n",
    "WHERE results.rank = 1\n",
    "AND date_part('year', age('2018-03-19',dob)) < 38;"
   ]
  },
  {
   "cell_type": "markdown",
   "metadata": {},
   "source": [
    "#### Views or `stored` query \n",
    "Makes it possible to persist some of your queries.  \n",
    "Views are a logical virtual table created by “select query” but the result is not stored anywhere in the disk and every time we need to fire the query when we need data, so always we get updated or latest data from original tables.  \n",
    "A view contains rows and columns, just like a real table. The fields in a view are fields from one or more real tables in the database.  \n",
    "A view always shows up-to-date data! The database engine recreates the data, using the view's SQL statement, every time a user queries a view.  \n",
    "Views allow a level of separation than an original table in terms of access rights but it always fetches updated data.  \n",
    "`Execution time: 36.269 ms`"
   ]
  },
  {
   "cell_type": "code",
   "execution_count": 239,
   "metadata": {
    "scrolled": true
   },
   "outputs": [
    {
     "name": "stdout",
     "output_type": "stream",
     "text": [
      "22 rows affected.\n"
     ]
    },
    {
     "data": {
      "text/html": [
       "<table>\n",
       "    <tr>\n",
       "        <th>QUERY PLAN</th>\n",
       "    </tr>\n",
       "    <tr>\n",
       "        <td>Hash Join  (cost=77.92..792.94 rows=86 width=66) (actual time=18.278..34.971 rows=154 loops=1)</td>\n",
       "    </tr>\n",
       "    <tr>\n",
       "        <td>&nbsp;&nbsp;Hash Cond: (races.circuitid = circuits.circuitid)</td>\n",
       "    </tr>\n",
       "    <tr>\n",
       "        <td>&nbsp;&nbsp;-&gt;  Hash Join  (cost=74.28..787.57 rows=86 width=50) (actual time=17.084..31.278 rows=154 loops=1)</td>\n",
       "    </tr>\n",
       "    <tr>\n",
       "        <td>&nbsp;&nbsp;&nbsp;&nbsp;&nbsp;&nbsp;&nbsp;&nbsp;Hash Cond: (results.raceid = races.raceid)</td>\n",
       "    </tr>\n",
       "    <tr>\n",
       "        <td>&nbsp;&nbsp;&nbsp;&nbsp;&nbsp;&nbsp;&nbsp;&nbsp;-&gt;  Hash Join  (cost=34.32..746.53 rows=86 width=19) (actual time=1.167..13.178 rows=154 loops=1)</td>\n",
       "    </tr>\n",
       "    <tr>\n",
       "        <td>&nbsp;&nbsp;&nbsp;&nbsp;&nbsp;&nbsp;&nbsp;&nbsp;&nbsp;&nbsp;&nbsp;&nbsp;&nbsp;&nbsp;Hash Cond: (results.driverid = drivers.driverid)</td>\n",
       "    </tr>\n",
       "    <tr>\n",
       "        <td>&nbsp;&nbsp;&nbsp;&nbsp;&nbsp;&nbsp;&nbsp;&nbsp;&nbsp;&nbsp;&nbsp;&nbsp;&nbsp;&nbsp;-&gt;  Seq Scan on results  (cost=0.00..708.96 rows=257 width=16) (actual time=0.018..9.196 rows=257 loops=1)</td>\n",
       "    </tr>\n",
       "    <tr>\n",
       "        <td>&nbsp;&nbsp;&nbsp;&nbsp;&nbsp;&nbsp;&nbsp;&nbsp;&nbsp;&nbsp;&nbsp;&nbsp;&nbsp;&nbsp;&nbsp;&nbsp;&nbsp;&nbsp;&nbsp;&nbsp;Filter: (rank = 1)</td>\n",
       "    </tr>\n",
       "    <tr>\n",
       "        <td>&nbsp;&nbsp;&nbsp;&nbsp;&nbsp;&nbsp;&nbsp;&nbsp;&nbsp;&nbsp;&nbsp;&nbsp;&nbsp;&nbsp;&nbsp;&nbsp;&nbsp;&nbsp;&nbsp;&nbsp;Rows Removed by Filter: 23420</td>\n",
       "    </tr>\n",
       "    <tr>\n",
       "        <td>&nbsp;&nbsp;&nbsp;&nbsp;&nbsp;&nbsp;&nbsp;&nbsp;&nbsp;&nbsp;&nbsp;&nbsp;&nbsp;&nbsp;-&gt;  Hash  (cost=30.82..30.82 rows=280 width=19) (actual time=1.110..1.110 rows=60 loops=1)</td>\n",
       "    </tr>\n",
       "    <tr>\n",
       "        <td>&nbsp;&nbsp;&nbsp;&nbsp;&nbsp;&nbsp;&nbsp;&nbsp;&nbsp;&nbsp;&nbsp;&nbsp;&nbsp;&nbsp;&nbsp;&nbsp;&nbsp;&nbsp;&nbsp;&nbsp;Buckets: 1024  Batches: 1  Memory Usage: 12kB</td>\n",
       "    </tr>\n",
       "    <tr>\n",
       "        <td>&nbsp;&nbsp;&nbsp;&nbsp;&nbsp;&nbsp;&nbsp;&nbsp;&nbsp;&nbsp;&nbsp;&nbsp;&nbsp;&nbsp;&nbsp;&nbsp;&nbsp;&nbsp;&nbsp;&nbsp;-&gt;  Seq Scan on drivers  (cost=0.00..30.82 rows=280 width=19) (actual time=0.021..0.783 rows=60 loops=1)</td>\n",
       "    </tr>\n",
       "    <tr>\n",
       "        <td>&nbsp;&nbsp;&nbsp;&nbsp;&nbsp;&nbsp;&nbsp;&nbsp;&nbsp;&nbsp;&nbsp;&nbsp;&nbsp;&nbsp;&nbsp;&nbsp;&nbsp;&nbsp;&nbsp;&nbsp;&nbsp;&nbsp;&nbsp;&nbsp;&nbsp;&nbsp;Filter: (date_part(&#x27;year&#x27;::text, age(&#x27;2018-03-19 00:00:00+00&#x27;::timestamp with time zone, (dob)::timestamp with time zone)) &lt; &#x27;38&#x27;::double precision)</td>\n",
       "    </tr>\n",
       "    <tr>\n",
       "        <td>&nbsp;&nbsp;&nbsp;&nbsp;&nbsp;&nbsp;&nbsp;&nbsp;&nbsp;&nbsp;&nbsp;&nbsp;&nbsp;&nbsp;&nbsp;&nbsp;&nbsp;&nbsp;&nbsp;&nbsp;&nbsp;&nbsp;&nbsp;&nbsp;&nbsp;&nbsp;Rows Removed by Filter: 781</td>\n",
       "    </tr>\n",
       "    <tr>\n",
       "        <td>&nbsp;&nbsp;&nbsp;&nbsp;&nbsp;&nbsp;&nbsp;&nbsp;-&gt;  Hash  (cost=27.76..27.76 rows=976 width=47) (actual time=15.869..15.869 rows=976 loops=1)</td>\n",
       "    </tr>\n",
       "    <tr>\n",
       "        <td>&nbsp;&nbsp;&nbsp;&nbsp;&nbsp;&nbsp;&nbsp;&nbsp;&nbsp;&nbsp;&nbsp;&nbsp;&nbsp;&nbsp;Buckets: 1024  Batches: 1  Memory Usage: 83kB</td>\n",
       "    </tr>\n",
       "    <tr>\n",
       "        <td>&nbsp;&nbsp;&nbsp;&nbsp;&nbsp;&nbsp;&nbsp;&nbsp;&nbsp;&nbsp;&nbsp;&nbsp;&nbsp;&nbsp;-&gt;  Seq Scan on races  (cost=0.00..27.76 rows=976 width=47) (actual time=0.022..7.720 rows=976 loops=1)</td>\n",
       "    </tr>\n",
       "    <tr>\n",
       "        <td>&nbsp;&nbsp;-&gt;  Hash  (cost=2.73..2.73 rows=73 width=28) (actual time=1.142..1.142 rows=73 loops=1)</td>\n",
       "    </tr>\n",
       "    <tr>\n",
       "        <td>&nbsp;&nbsp;&nbsp;&nbsp;&nbsp;&nbsp;&nbsp;&nbsp;Buckets: 1024  Batches: 1  Memory Usage: 13kB</td>\n",
       "    </tr>\n",
       "    <tr>\n",
       "        <td>&nbsp;&nbsp;&nbsp;&nbsp;&nbsp;&nbsp;&nbsp;&nbsp;-&gt;  Seq Scan on circuits  (cost=0.00..2.73 rows=73 width=28) (actual time=0.021..0.571 rows=73 loops=1)</td>\n",
       "    </tr>\n",
       "    <tr>\n",
       "        <td>Planning time: 0.964 ms</td>\n",
       "    </tr>\n",
       "    <tr>\n",
       "        <td>Execution time: 36.269 ms</td>\n",
       "    </tr>\n",
       "</table>"
      ],
      "text/plain": [
       "[('Hash Join  (cost=77.92..792.94 rows=86 width=66) (actual time=18.278..34.971 rows=154 loops=1)',),\n",
       " ('  Hash Cond: (races.circuitid = circuits.circuitid)',),\n",
       " ('  ->  Hash Join  (cost=74.28..787.57 rows=86 width=50) (actual time=17.084..31.278 rows=154 loops=1)',),\n",
       " ('        Hash Cond: (results.raceid = races.raceid)',),\n",
       " ('        ->  Hash Join  (cost=34.32..746.53 rows=86 width=19) (actual time=1.167..13.178 rows=154 loops=1)',),\n",
       " ('              Hash Cond: (results.driverid = drivers.driverid)',),\n",
       " ('              ->  Seq Scan on results  (cost=0.00..708.96 rows=257 width=16) (actual time=0.018..9.196 rows=257 loops=1)',),\n",
       " ('                    Filter: (rank = 1)',),\n",
       " ('                    Rows Removed by Filter: 23420',),\n",
       " ('              ->  Hash  (cost=30.82..30.82 rows=280 width=19) (actual time=1.110..1.110 rows=60 loops=1)',),\n",
       " ('                    Buckets: 1024  Batches: 1  Memory Usage: 12kB',),\n",
       " ('                    ->  Seq Scan on drivers  (cost=0.00..30.82 rows=280 width=19) (actual time=0.021..0.783 rows=60 loops=1)',),\n",
       " (\"                          Filter: (date_part('year'::text, age('2018-03-19 00:00:00+00'::timestamp with time zone, (dob)::timestamp with time zone)) < '38'::double precision)\",),\n",
       " ('                          Rows Removed by Filter: 781',),\n",
       " ('        ->  Hash  (cost=27.76..27.76 rows=976 width=47) (actual time=15.869..15.869 rows=976 loops=1)',),\n",
       " ('              Buckets: 1024  Batches: 1  Memory Usage: 83kB',),\n",
       " ('              ->  Seq Scan on races  (cost=0.00..27.76 rows=976 width=47) (actual time=0.022..7.720 rows=976 loops=1)',),\n",
       " ('  ->  Hash  (cost=2.73..2.73 rows=73 width=28) (actual time=1.142..1.142 rows=73 loops=1)',),\n",
       " ('        Buckets: 1024  Batches: 1  Memory Usage: 13kB',),\n",
       " ('        ->  Seq Scan on circuits  (cost=0.00..2.73 rows=73 width=28) (actual time=0.021..0.571 rows=73 loops=1)',),\n",
       " ('Planning time: 0.964 ms',),\n",
       " ('Execution time: 36.269 ms',)]"
      ]
     },
     "execution_count": 239,
     "metadata": {},
     "output_type": "execute_result"
    }
   ],
   "source": [
    "%sql EXPLAIN ANALYZE SELECT * FROM race_winners;"
   ]
  },
  {
   "cell_type": "markdown",
   "metadata": {},
   "source": [
    "#### Materialised views \n",
    "Materialized views are also the logical view of our data-driven by the select query but the result of the query will get stored in the table or disk, also the definition of the query will also store in the database.  \n",
    "Use the `CREATE MATERIALIZED VIEW` statement to create a materialized view. A materialized view is a database object that contains the results of a query, they will NOT update if your data is updated.  \n",
    "When we see the performance of Materialized view it is better than normal View because the data of materialized view will be stored in table and table may be indexed so faster for joining.\n",
    "`Execution time: 2.201 ms`"
   ]
  },
  {
   "cell_type": "code",
   "execution_count": 237,
   "metadata": {},
   "outputs": [
    {
     "name": "stdout",
     "output_type": "stream",
     "text": [
      "154 rows affected.\n"
     ]
    },
    {
     "data": {
      "text/plain": [
       "[]"
      ]
     },
     "execution_count": 237,
     "metadata": {},
     "output_type": "execute_result"
    }
   ],
   "source": [
    "%sql CREATE MATERIALIZED VIEW race_winners_cache AS SELECT * FROM race_winners;"
   ]
  },
  {
   "cell_type": "code",
   "execution_count": 238,
   "metadata": {},
   "outputs": [
    {
     "name": "stdout",
     "output_type": "stream",
     "text": [
      "3 rows affected.\n"
     ]
    },
    {
     "data": {
      "text/html": [
       "<table>\n",
       "    <tr>\n",
       "        <th>QUERY PLAN</th>\n",
       "    </tr>\n",
       "    <tr>\n",
       "        <td>Seq Scan on race_winners_cache  (cost=0.00..10.50 rows=50 width=1568) (actual time=0.031..1.107 rows=154 loops=1)</td>\n",
       "    </tr>\n",
       "    <tr>\n",
       "        <td>Planning time: 9.654 ms</td>\n",
       "    </tr>\n",
       "    <tr>\n",
       "        <td>Execution time: 2.201 ms</td>\n",
       "    </tr>\n",
       "</table>"
      ],
      "text/plain": [
       "[('Seq Scan on race_winners_cache  (cost=0.00..10.50 rows=50 width=1568) (actual time=0.031..1.107 rows=154 loops=1)',),\n",
       " ('Planning time: 9.654 ms',),\n",
       " ('Execution time: 2.201 ms',)]"
      ]
     },
     "execution_count": 238,
     "metadata": {},
     "output_type": "execute_result"
    }
   ],
   "source": [
    "%sql EXPLAIN ANALYZE SELECT * FROM race_winners_cache;"
   ]
  }
 ],
 "metadata": {
  "kernelspec": {
   "display_name": "Python 3",
   "language": "python",
   "name": "python3"
  },
  "language_info": {
   "codemirror_mode": {
    "name": "ipython",
    "version": 3
   },
   "file_extension": ".py",
   "mimetype": "text/x-python",
   "name": "python",
   "nbconvert_exporter": "python",
   "pygments_lexer": "ipython3",
   "version": "3.6.3"
  }
 },
 "nbformat": 4,
 "nbformat_minor": 2
}
