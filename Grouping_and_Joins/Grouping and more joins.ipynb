{
 "cells": [
  {
   "cell_type": "code",
   "execution_count": 3,
   "metadata": {},
   "outputs": [
    {
     "data": {
      "text/plain": [
       "'Connected: appdev@appdev'"
      ]
     },
     "execution_count": 3,
     "metadata": {},
     "output_type": "execute_result"
    }
   ],
   "source": [
    "%load_ext sql\n",
    "%sql postgresql://appdev@data/appdev"
   ]
  },
  {
   "cell_type": "markdown",
   "metadata": {},
   "source": [
    "# Grouping and more joins"
   ]
  },
  {
   "cell_type": "markdown",
   "metadata": {},
   "source": [
    "## 1."
   ]
  },
  {
   "cell_type": "markdown",
   "metadata": {},
   "source": [
    "Using a single join and a grouping, write a query that allows you to find the forename, surname, driverid and the total number of wins for each driver in the f1db schema."
   ]
  },
  {
   "cell_type": "code",
   "execution_count": 78,
   "metadata": {
    "scrolled": true
   },
   "outputs": [
    {
     "name": "stdout",
     "output_type": "stream",
     "text": [
      "31 rows affected.\n"
     ]
    },
    {
     "data": {
      "text/html": [
       "<table>\n",
       "    <tr>\n",
       "        <th>forename</th>\n",
       "        <th>surname</th>\n",
       "        <th>driverid</th>\n",
       "        <th>wins</th>\n",
       "    </tr>\n",
       "    <tr>\n",
       "        <td>Daniil</td>\n",
       "        <td>Kvyat</td>\n",
       "        <td>826</td>\n",
       "        <td>1</td>\n",
       "    </tr>\n",
       "    <tr>\n",
       "        <td>Daniel</td>\n",
       "        <td>Ricciardo</td>\n",
       "        <td>817</td>\n",
       "        <td>9</td>\n",
       "    </tr>\n",
       "    <tr>\n",
       "        <td>Rubens</td>\n",
       "        <td>Barrichello</td>\n",
       "        <td>22</td>\n",
       "        <td>6</td>\n",
       "    </tr>\n",
       "    <tr>\n",
       "        <td>Jarno</td>\n",
       "        <td>Trulli</td>\n",
       "        <td>15</td>\n",
       "        <td>1</td>\n",
       "    </tr>\n",
       "    <tr>\n",
       "        <td>Sergio</td>\n",
       "        <td>Pérez</td>\n",
       "        <td>815</td>\n",
       "        <td>4</td>\n",
       "    </tr>\n",
       "    <tr>\n",
       "        <td>Heikki</td>\n",
       "        <td>Kovalainen</td>\n",
       "        <td>5</td>\n",
       "        <td>2</td>\n",
       "    </tr>\n",
       "    <tr>\n",
       "        <td>Nico</td>\n",
       "        <td>Hülkenberg</td>\n",
       "        <td>807</td>\n",
       "        <td>2</td>\n",
       "    </tr>\n",
       "    <tr>\n",
       "        <td>Fernando</td>\n",
       "        <td>Alonso</td>\n",
       "        <td>4</td>\n",
       "        <td>22</td>\n",
       "    </tr>\n",
       "    <tr>\n",
       "        <td>Timo</td>\n",
       "        <td>Glock</td>\n",
       "        <td>10</td>\n",
       "        <td>1</td>\n",
       "    </tr>\n",
       "    <tr>\n",
       "        <td>Valtteri</td>\n",
       "        <td>Bottas</td>\n",
       "        <td>822</td>\n",
       "        <td>1</td>\n",
       "    </tr>\n",
       "    <tr>\n",
       "        <td>Juan</td>\n",
       "        <td>Pablo Montoya</td>\n",
       "        <td>31</td>\n",
       "        <td>3</td>\n",
       "    </tr>\n",
       "    <tr>\n",
       "        <td>Kamui</td>\n",
       "        <td>Kobayashi</td>\n",
       "        <td>155</td>\n",
       "        <td>1</td>\n",
       "    </tr>\n",
       "    <tr>\n",
       "        <td>Felipe</td>\n",
       "        <td>Massa</td>\n",
       "        <td>13</td>\n",
       "        <td>15</td>\n",
       "    </tr>\n",
       "    <tr>\n",
       "        <td>Nick</td>\n",
       "        <td>Heidfeld</td>\n",
       "        <td>2</td>\n",
       "        <td>2</td>\n",
       "    </tr>\n",
       "    <tr>\n",
       "        <td>Vitaly</td>\n",
       "        <td>Petrov</td>\n",
       "        <td>808</td>\n",
       "        <td>1</td>\n",
       "    </tr>\n",
       "    <tr>\n",
       "        <td>Sebastian</td>\n",
       "        <td>Vettel</td>\n",
       "        <td>20</td>\n",
       "        <td>31</td>\n",
       "    </tr>\n",
       "    <tr>\n",
       "        <td>Lewis</td>\n",
       "        <td>Hamilton</td>\n",
       "        <td>1</td>\n",
       "        <td>38</td>\n",
       "    </tr>\n",
       "    <tr>\n",
       "        <td>Jenson</td>\n",
       "        <td>Button</td>\n",
       "        <td>18</td>\n",
       "        <td>8</td>\n",
       "    </tr>\n",
       "    <tr>\n",
       "        <td>Bruno</td>\n",
       "        <td>Senna</td>\n",
       "        <td>811</td>\n",
       "        <td>1</td>\n",
       "    </tr>\n",
       "    <tr>\n",
       "        <td>Kimi</td>\n",
       "        <td>Räikkönen</td>\n",
       "        <td>8</td>\n",
       "        <td>41</td>\n",
       "    </tr>\n",
       "    <tr>\n",
       "        <td>Max</td>\n",
       "        <td>Verstappen</td>\n",
       "        <td>830</td>\n",
       "        <td>1</td>\n",
       "    </tr>\n",
       "    <tr>\n",
       "        <td>Esteban</td>\n",
       "        <td>Gutiérrez</td>\n",
       "        <td>821</td>\n",
       "        <td>1</td>\n",
       "    </tr>\n",
       "    <tr>\n",
       "        <td>Robert</td>\n",
       "        <td>Kubica</td>\n",
       "        <td>9</td>\n",
       "        <td>1</td>\n",
       "    </tr>\n",
       "    <tr>\n",
       "        <td>Michael</td>\n",
       "        <td>Schumacher</td>\n",
       "        <td>30</td>\n",
       "        <td>21</td>\n",
       "    </tr>\n",
       "    <tr>\n",
       "        <td>Giancarlo</td>\n",
       "        <td>Fisichella</td>\n",
       "        <td>21</td>\n",
       "        <td>1</td>\n",
       "    </tr>\n",
       "    <tr>\n",
       "        <td>Nico</td>\n",
       "        <td>Rosberg</td>\n",
       "        <td>3</td>\n",
       "        <td>20</td>\n",
       "    </tr>\n",
       "    <tr>\n",
       "        <td>Mark</td>\n",
       "        <td>Webber</td>\n",
       "        <td>17</td>\n",
       "        <td>18</td>\n",
       "    </tr>\n",
       "    <tr>\n",
       "        <td>Pedro</td>\n",
       "        <td>de la Rosa</td>\n",
       "        <td>37</td>\n",
       "        <td>1</td>\n",
       "    </tr>\n",
       "    <tr>\n",
       "        <td>Adrian</td>\n",
       "        <td>Sutil</td>\n",
       "        <td>16</td>\n",
       "        <td>1</td>\n",
       "    </tr>\n",
       "    <tr>\n",
       "        <td>Romain</td>\n",
       "        <td>Grosjean</td>\n",
       "        <td>154</td>\n",
       "        <td>1</td>\n",
       "    </tr>\n",
       "    <tr>\n",
       "        <td>Ralf</td>\n",
       "        <td>Schumacher</td>\n",
       "        <td>23</td>\n",
       "        <td>1</td>\n",
       "    </tr>\n",
       "</table>"
      ],
      "text/plain": [
       "[('Daniil', 'Kvyat', 826, 1),\n",
       " ('Daniel', 'Ricciardo', 817, 9),\n",
       " ('Rubens', 'Barrichello', 22, 6),\n",
       " ('Jarno', 'Trulli', 15, 1),\n",
       " ('Sergio', 'Pérez', 815, 4),\n",
       " ('Heikki', 'Kovalainen', 5, 2),\n",
       " ('Nico', 'Hülkenberg', 807, 2),\n",
       " ('Fernando', 'Alonso', 4, 22),\n",
       " ('Timo', 'Glock', 10, 1),\n",
       " ('Valtteri', 'Bottas', 822, 1),\n",
       " ('Juan', 'Pablo Montoya', 31, 3),\n",
       " ('Kamui', 'Kobayashi', 155, 1),\n",
       " ('Felipe', 'Massa', 13, 15),\n",
       " ('Nick', 'Heidfeld', 2, 2),\n",
       " ('Vitaly', 'Petrov', 808, 1),\n",
       " ('Sebastian', 'Vettel', 20, 31),\n",
       " ('Lewis', 'Hamilton', 1, 38),\n",
       " ('Jenson', 'Button', 18, 8),\n",
       " ('Bruno', 'Senna', 811, 1),\n",
       " ('Kimi', 'Räikkönen', 8, 41),\n",
       " ('Max', 'Verstappen', 830, 1),\n",
       " ('Esteban', 'Gutiérrez', 821, 1),\n",
       " ('Robert', 'Kubica', 9, 1),\n",
       " ('Michael', 'Schumacher', 30, 21),\n",
       " ('Giancarlo', 'Fisichella', 21, 1),\n",
       " ('Nico', 'Rosberg', 3, 20),\n",
       " ('Mark', 'Webber', 17, 18),\n",
       " ('Pedro', 'de la Rosa', 37, 1),\n",
       " ('Adrian', 'Sutil', 16, 1),\n",
       " ('Romain', 'Grosjean', 154, 1),\n",
       " ('Ralf', 'Schumacher', 23, 1)]"
      ]
     },
     "execution_count": 78,
     "metadata": {},
     "output_type": "execute_result"
    }
   ],
   "source": [
    "\n",
    "%%sql \n",
    "SELECT drivers.forename, drivers.surname, drivers.driverid, count(results.rank) as wins \n",
    "FROM drivers\n",
    "JOIN results USING(driverid) \n",
    "WHERE results.rank = 1 \n",
    "GROUP BY driverid;\n"
   ]
  },
  {
   "cell_type": "markdown",
   "metadata": {},
   "source": [
    "## 2."
   ]
  },
  {
   "cell_type": "markdown",
   "metadata": {},
   "source": [
    "Write a query that joins the tables results, constructors and drivers to show the amount of times a driver has driven a car from a constructor. \n",
    "\n",
    "    Your table should have three fields: \n",
    "    * drivers.driverref, \n",
    "    * constructors.name, \n",
    "    * count(*) (showing the number of times the driver has driven the constructor).\n",
    "    \n",
    "   Query gives 2093 rows, so the result is limited to 10."
   ]
  },
  {
   "cell_type": "code",
   "execution_count": 81,
   "metadata": {},
   "outputs": [
    {
     "name": "stdout",
     "output_type": "stream",
     "text": [
      "10 rows affected.\n"
     ]
    },
    {
     "data": {
      "text/html": [
       "<table>\n",
       "    <tr>\n",
       "        <th>driverref</th>\n",
       "        <th>name</th>\n",
       "        <th>count</th>\n",
       "    </tr>\n",
       "    <tr>\n",
       "        <td>michael_schumacher</td>\n",
       "        <td>Ferrari</td>\n",
       "        <td>181</td>\n",
       "    </tr>\n",
       "    <tr>\n",
       "        <td>coulthard</td>\n",
       "        <td>McLaren</td>\n",
       "        <td>150</td>\n",
       "    </tr>\n",
       "    <tr>\n",
       "        <td>massa</td>\n",
       "        <td>Ferrari</td>\n",
       "        <td>140</td>\n",
       "    </tr>\n",
       "    <tr>\n",
       "        <td>button</td>\n",
       "        <td>McLaren</td>\n",
       "        <td>137</td>\n",
       "    </tr>\n",
       "    <tr>\n",
       "        <td>rosberg</td>\n",
       "        <td>Mercedes</td>\n",
       "        <td>136</td>\n",
       "    </tr>\n",
       "    <tr>\n",
       "        <td>hakkinen</td>\n",
       "        <td>McLaren</td>\n",
       "        <td>133</td>\n",
       "    </tr>\n",
       "    <tr>\n",
       "        <td>laffite</td>\n",
       "        <td>Ligier</td>\n",
       "        <td>132</td>\n",
       "    </tr>\n",
       "    <tr>\n",
       "        <td>webber</td>\n",
       "        <td>Red Bull</td>\n",
       "        <td>129</td>\n",
       "    </tr>\n",
       "    <tr>\n",
       "        <td>raikkonen</td>\n",
       "        <td>Ferrari</td>\n",
       "        <td>126</td>\n",
       "    </tr>\n",
       "    <tr>\n",
       "        <td>vettel</td>\n",
       "        <td>Red Bull</td>\n",
       "        <td>113</td>\n",
       "    </tr>\n",
       "</table>"
      ],
      "text/plain": [
       "[('michael_schumacher', 'Ferrari', 181),\n",
       " ('coulthard', 'McLaren', 150),\n",
       " ('massa', 'Ferrari', 140),\n",
       " ('button', 'McLaren', 137),\n",
       " ('rosberg', 'Mercedes', 136),\n",
       " ('hakkinen', 'McLaren', 133),\n",
       " ('laffite', 'Ligier', 132),\n",
       " ('webber', 'Red Bull', 129),\n",
       " ('raikkonen', 'Ferrari', 126),\n",
       " ('vettel', 'Red Bull', 113)]"
      ]
     },
     "execution_count": 81,
     "metadata": {},
     "output_type": "execute_result"
    }
   ],
   "source": [
    "%%sql\n",
    "SELECT drivers.driverref, constructors.name, count(*) from drivers\n",
    "JOIN results USING(driverid)\n",
    "JOIN constructors USING(constructorid) \n",
    "GROUP BY drivers.driverref, constructors.name \n",
    "ORDER BY count \n",
    "DESC \n",
    "LIMIT 10;\n"
   ]
  },
  {
   "cell_type": "markdown",
   "metadata": {},
   "source": [
    "## 3."
   ]
  },
  {
   "cell_type": "markdown",
   "metadata": {},
   "source": [
    "Extend the query from 2 by removing all tuples from the result where the status is not \"Finished\".\n",
    "\n",
    "The query gives 658 rows, so result is limited to 10."
   ]
  },
  {
   "cell_type": "code",
   "execution_count": 93,
   "metadata": {},
   "outputs": [
    {
     "name": "stdout",
     "output_type": "stream",
     "text": [
      "10 rows affected.\n"
     ]
    },
    {
     "data": {
      "text/html": [
       "<table>\n",
       "    <tr>\n",
       "        <th>driverref</th>\n",
       "        <th>name</th>\n",
       "        <th>count</th>\n",
       "    </tr>\n",
       "    <tr>\n",
       "        <td>michael_schumacher</td>\n",
       "        <td>Ferrari</td>\n",
       "        <td>141</td>\n",
       "    </tr>\n",
       "    <tr>\n",
       "        <td>massa</td>\n",
       "        <td>Ferrari</td>\n",
       "        <td>112</td>\n",
       "    </tr>\n",
       "    <tr>\n",
       "        <td>rosberg</td>\n",
       "        <td>Mercedes</td>\n",
       "        <td>109</td>\n",
       "    </tr>\n",
       "    <tr>\n",
       "        <td>webber</td>\n",
       "        <td>Red Bull</td>\n",
       "        <td>100</td>\n",
       "    </tr>\n",
       "    <tr>\n",
       "        <td>vettel</td>\n",
       "        <td>Red Bull</td>\n",
       "        <td>97</td>\n",
       "    </tr>\n",
       "    <tr>\n",
       "        <td>raikkonen</td>\n",
       "        <td>Ferrari</td>\n",
       "        <td>92</td>\n",
       "    </tr>\n",
       "    <tr>\n",
       "        <td>button</td>\n",
       "        <td>McLaren</td>\n",
       "        <td>87</td>\n",
       "    </tr>\n",
       "    <tr>\n",
       "        <td>alonso</td>\n",
       "        <td>Ferrari</td>\n",
       "        <td>87</td>\n",
       "    </tr>\n",
       "    <tr>\n",
       "        <td>coulthard</td>\n",
       "        <td>McLaren</td>\n",
       "        <td>85</td>\n",
       "    </tr>\n",
       "    <tr>\n",
       "        <td>hamilton</td>\n",
       "        <td>Mercedes</td>\n",
       "        <td>85</td>\n",
       "    </tr>\n",
       "</table>"
      ],
      "text/plain": [
       "[('michael_schumacher', 'Ferrari', 141),\n",
       " ('massa', 'Ferrari', 112),\n",
       " ('rosberg', 'Mercedes', 109),\n",
       " ('webber', 'Red Bull', 100),\n",
       " ('vettel', 'Red Bull', 97),\n",
       " ('raikkonen', 'Ferrari', 92),\n",
       " ('button', 'McLaren', 87),\n",
       " ('alonso', 'Ferrari', 87),\n",
       " ('coulthard', 'McLaren', 85),\n",
       " ('hamilton', 'Mercedes', 85)]"
      ]
     },
     "execution_count": 93,
     "metadata": {},
     "output_type": "execute_result"
    }
   ],
   "source": [
    "%%sql\n",
    "SELECT drivers.driverref, constructors.name, count(*) from drivers\n",
    "JOIN results USING (driverid) \n",
    "JOIN constructors USING (constructorid) \n",
    "WHERE results.statusid = 1 \n",
    "GROUP BY drivers.driverref, constructors.name\n",
    "ORDER BY count \n",
    "DESC \n",
    "LIMIT 10;"
   ]
  },
  {
   "cell_type": "markdown",
   "metadata": {},
   "source": [
    "## 4."
   ]
  },
  {
   "cell_type": "markdown",
   "metadata": {},
   "source": [
    "Create a third (and new) query that finds the amount of milliseconds spent in pitstop (see the pitstops relation) by each unique combinations of driverid and raceid.\n",
    "\n",
    "Query produces 2699 rows, result limited to 10."
   ]
  },
  {
   "cell_type": "code",
   "execution_count": 106,
   "metadata": {},
   "outputs": [
    {
     "name": "stdout",
     "output_type": "stream",
     "text": [
      "10 rows affected.\n"
     ]
    },
    {
     "data": {
      "text/html": [
       "<table>\n",
       "    <tr>\n",
       "        <th>driverid</th>\n",
       "        <th>raceid</th>\n",
       "        <th>milisec</th>\n",
       "    </tr>\n",
       "    <tr>\n",
       "        <td>815</td>\n",
       "        <td>969</td>\n",
       "        <td>22045</td>\n",
       "    </tr>\n",
       "    <tr>\n",
       "        <td>8</td>\n",
       "        <td>942</td>\n",
       "        <td>59281</td>\n",
       "    </tr>\n",
       "    <tr>\n",
       "        <td>20</td>\n",
       "        <td>898</td>\n",
       "        <td>24086</td>\n",
       "    </tr>\n",
       "    <tr>\n",
       "        <td>8</td>\n",
       "        <td>913</td>\n",
       "        <td>89060</td>\n",
       "    </tr>\n",
       "    <tr>\n",
       "        <td>807</td>\n",
       "        <td>894</td>\n",
       "        <td>47766</td>\n",
       "    </tr>\n",
       "    <tr>\n",
       "        <td>3</td>\n",
       "        <td>878</td>\n",
       "        <td>21346</td>\n",
       "    </tr>\n",
       "    <tr>\n",
       "        <td>807</td>\n",
       "        <td>953</td>\n",
       "        <td>52279</td>\n",
       "    </tr>\n",
       "    <tr>\n",
       "        <td>4</td>\n",
       "        <td>855</td>\n",
       "        <td>63197</td>\n",
       "    </tr>\n",
       "    <tr>\n",
       "        <td>8</td>\n",
       "        <td>930</td>\n",
       "        <td>44412</td>\n",
       "    </tr>\n",
       "    <tr>\n",
       "        <td>819</td>\n",
       "        <td>876</td>\n",
       "        <td>22692</td>\n",
       "    </tr>\n",
       "</table>"
      ],
      "text/plain": [
       "[(815, 969, Decimal('22045')),\n",
       " (8, 942, Decimal('59281')),\n",
       " (20, 898, Decimal('24086')),\n",
       " (8, 913, Decimal('89060')),\n",
       " (807, 894, Decimal('47766')),\n",
       " (3, 878, Decimal('21346')),\n",
       " (807, 953, Decimal('52279')),\n",
       " (4, 855, Decimal('63197')),\n",
       " (8, 930, Decimal('44412')),\n",
       " (819, 876, Decimal('22692'))]"
      ]
     },
     "execution_count": 106,
     "metadata": {},
     "output_type": "execute_result"
    }
   ],
   "source": [
    "%%sql\n",
    "SELECT driverid, raceid, sum(milliseconds) as milisec\n",
    "FROM pitstops \n",
    "GROUP BY driverid, raceid \n",
    "LIMIT 10;"
   ]
  },
  {
   "cell_type": "markdown",
   "metadata": {},
   "source": [
    "## 5."
   ]
  },
  {
   "cell_type": "markdown",
   "metadata": {},
   "source": [
    "Use the query for 4 as a join subquery in query 3 (see slides on \"a query within a query\") to find the total amount of pitstop time, for each result in query 3.\n",
    "\n",
    "(make a view from query 4)\n",
    "\n",
    "ps. I spend a really long time on this assignement and didnt manage to solve it :( \n",
    "\n",
    "So far query provides 658 rows, therefor limit set 10."
   ]
  },
  {
   "cell_type": "code",
   "execution_count": 11,
   "metadata": {},
   "outputs": [
    {
     "name": "stdout",
     "output_type": "stream",
     "text": [
      "10 rows affected.\n"
     ]
    },
    {
     "data": {
      "text/html": [
       "<table>\n",
       "    <tr>\n",
       "        <th>driverref</th>\n",
       "        <th>name</th>\n",
       "        <th>count</th>\n",
       "    </tr>\n",
       "    <tr>\n",
       "        <td>michael_schumacher</td>\n",
       "        <td>Ferrari</td>\n",
       "        <td>141</td>\n",
       "    </tr>\n",
       "    <tr>\n",
       "        <td>massa</td>\n",
       "        <td>Ferrari</td>\n",
       "        <td>112</td>\n",
       "    </tr>\n",
       "    <tr>\n",
       "        <td>rosberg</td>\n",
       "        <td>Mercedes</td>\n",
       "        <td>109</td>\n",
       "    </tr>\n",
       "    <tr>\n",
       "        <td>webber</td>\n",
       "        <td>Red Bull</td>\n",
       "        <td>100</td>\n",
       "    </tr>\n",
       "    <tr>\n",
       "        <td>vettel</td>\n",
       "        <td>Red Bull</td>\n",
       "        <td>97</td>\n",
       "    </tr>\n",
       "    <tr>\n",
       "        <td>raikkonen</td>\n",
       "        <td>Ferrari</td>\n",
       "        <td>92</td>\n",
       "    </tr>\n",
       "    <tr>\n",
       "        <td>button</td>\n",
       "        <td>McLaren</td>\n",
       "        <td>87</td>\n",
       "    </tr>\n",
       "    <tr>\n",
       "        <td>alonso</td>\n",
       "        <td>Ferrari</td>\n",
       "        <td>87</td>\n",
       "    </tr>\n",
       "    <tr>\n",
       "        <td>coulthard</td>\n",
       "        <td>McLaren</td>\n",
       "        <td>85</td>\n",
       "    </tr>\n",
       "    <tr>\n",
       "        <td>hamilton</td>\n",
       "        <td>Mercedes</td>\n",
       "        <td>85</td>\n",
       "    </tr>\n",
       "</table>"
      ],
      "text/plain": [
       "[('michael_schumacher', 'Ferrari', 141),\n",
       " ('massa', 'Ferrari', 112),\n",
       " ('rosberg', 'Mercedes', 109),\n",
       " ('webber', 'Red Bull', 100),\n",
       " ('vettel', 'Red Bull', 97),\n",
       " ('raikkonen', 'Ferrari', 92),\n",
       " ('button', 'McLaren', 87),\n",
       " ('alonso', 'Ferrari', 87),\n",
       " ('coulthard', 'McLaren', 85),\n",
       " ('hamilton', 'Mercedes', 85)]"
      ]
     },
     "execution_count": 11,
     "metadata": {},
     "output_type": "execute_result"
    }
   ],
   "source": [
    "%%sql\n",
    "SELECT drivers.driverref, constructors.name, count(*) from drivers\n",
    "JOIN results USING (driverid) \n",
    "JOIN constructors USING (constructorid)\n",
    "WHERE results.statusid = 1 \n",
    "GROUP BY drivers.driverref, constructors.name\n",
    "ORDER BY count \n",
    "DESC\n",
    "LIMIT 10;"
   ]
  },
  {
   "cell_type": "markdown",
   "metadata": {},
   "source": [
    "## 6."
   ]
  },
  {
   "cell_type": "markdown",
   "metadata": {},
   "source": [
    "As a last thing we want to find the driver with the least pistop time. However we want to control for the amount of races (see explanation below), so we need to include one last column: the average pitstop time per race. Your table should be sorted based on the ascending values of that average pitstop time.\n",
    "\n",
    "ps. Was also stuck with this assignement as it seemed close to the previous, but couldnt work out to get the average pit stop time :(\n"
   ]
  },
  {
   "cell_type": "code",
   "execution_count": 12,
   "metadata": {},
   "outputs": [
    {
     "name": "stdout",
     "output_type": "stream",
     "text": [
      "10 rows affected.\n"
     ]
    },
    {
     "data": {
      "text/html": [
       "<table>\n",
       "    <tr>\n",
       "        <th>driverref</th>\n",
       "        <th>name</th>\n",
       "        <th>count</th>\n",
       "    </tr>\n",
       "    <tr>\n",
       "        <td>wehrlein</td>\n",
       "        <td>Manor Marussia</td>\n",
       "        <td>1</td>\n",
       "    </tr>\n",
       "    <tr>\n",
       "        <td>mairesse</td>\n",
       "        <td>Ferrari</td>\n",
       "        <td>1</td>\n",
       "    </tr>\n",
       "    <tr>\n",
       "        <td>stommelen</td>\n",
       "        <td>Embassy Hill</td>\n",
       "        <td>1</td>\n",
       "    </tr>\n",
       "    <tr>\n",
       "        <td>rossi</td>\n",
       "        <td>Manor Marussia</td>\n",
       "        <td>1</td>\n",
       "    </tr>\n",
       "    <tr>\n",
       "        <td>ericsson</td>\n",
       "        <td>Caterham</td>\n",
       "        <td>1</td>\n",
       "    </tr>\n",
       "    <tr>\n",
       "        <td>martini</td>\n",
       "        <td>Minardi</td>\n",
       "        <td>1</td>\n",
       "    </tr>\n",
       "    <tr>\n",
       "        <td>ertl</td>\n",
       "        <td>Hesketh</td>\n",
       "        <td>1</td>\n",
       "    </tr>\n",
       "    <tr>\n",
       "        <td>faulkner</td>\n",
       "        <td>Kurtis Kraft</td>\n",
       "        <td>1</td>\n",
       "    </tr>\n",
       "    <tr>\n",
       "        <td>veith</td>\n",
       "        <td>Kurtis Kraft</td>\n",
       "        <td>1</td>\n",
       "    </tr>\n",
       "    <tr>\n",
       "        <td>bryan</td>\n",
       "        <td>Kurtis Kraft</td>\n",
       "        <td>1</td>\n",
       "    </tr>\n",
       "</table>"
      ],
      "text/plain": [
       "[('wehrlein', 'Manor Marussia', 1),\n",
       " ('mairesse', 'Ferrari', 1),\n",
       " ('stommelen', 'Embassy Hill', 1),\n",
       " ('rossi', 'Manor Marussia', 1),\n",
       " ('ericsson', 'Caterham', 1),\n",
       " ('martini', 'Minardi', 1),\n",
       " ('ertl', 'Hesketh', 1),\n",
       " ('faulkner', 'Kurtis Kraft', 1),\n",
       " ('veith', 'Kurtis Kraft', 1),\n",
       " ('bryan', 'Kurtis Kraft', 1)]"
      ]
     },
     "execution_count": 12,
     "metadata": {},
     "output_type": "execute_result"
    }
   ],
   "source": [
    "%%sql\n",
    "SELECT drivers.driverref, constructors.name, count(*) from drivers\n",
    "\n",
    "JOIN results USING (driverid) \n",
    "JOIN constructors USING (constructorid)\n",
    "WHERE results.statusid = 1\n",
    "GROUP BY drivers.driverref, constructors.name\n",
    "ORDER BY count \n",
    "ASC\n",
    "LIMIT 10;"
   ]
  },
  {
   "cell_type": "code",
   "execution_count": 51,
   "metadata": {},
   "outputs": [
    {
     "name": "stdout",
     "output_type": "stream",
     "text": [
      "13 rows affected.\n"
     ]
    },
    {
     "data": {
      "text/html": [
       "<table>\n",
       "    <tr>\n",
       "        <th>tablename</th>\n",
       "    </tr>\n",
       "    <tr>\n",
       "        <td>circuits</td>\n",
       "    </tr>\n",
       "    <tr>\n",
       "        <td>constructorresults</td>\n",
       "    </tr>\n",
       "    <tr>\n",
       "        <td>constructors</td>\n",
       "    </tr>\n",
       "    <tr>\n",
       "        <td>constructorstandings</td>\n",
       "    </tr>\n",
       "    <tr>\n",
       "        <td>drivers</td>\n",
       "    </tr>\n",
       "    <tr>\n",
       "        <td>driverstandings</td>\n",
       "    </tr>\n",
       "    <tr>\n",
       "        <td>laptimes</td>\n",
       "    </tr>\n",
       "    <tr>\n",
       "        <td>pitstops</td>\n",
       "    </tr>\n",
       "    <tr>\n",
       "        <td>qualifying</td>\n",
       "    </tr>\n",
       "    <tr>\n",
       "        <td>races</td>\n",
       "    </tr>\n",
       "    <tr>\n",
       "        <td>results</td>\n",
       "    </tr>\n",
       "    <tr>\n",
       "        <td>seasons</td>\n",
       "    </tr>\n",
       "    <tr>\n",
       "        <td>status</td>\n",
       "    </tr>\n",
       "</table>"
      ],
      "text/plain": [
       "[('circuits',),\n",
       " ('constructorresults',),\n",
       " ('constructors',),\n",
       " ('constructorstandings',),\n",
       " ('drivers',),\n",
       " ('driverstandings',),\n",
       " ('laptimes',),\n",
       " ('pitstops',),\n",
       " ('qualifying',),\n",
       " ('races',),\n",
       " ('results',),\n",
       " ('seasons',),\n",
       " ('status',)]"
      ]
     },
     "execution_count": 51,
     "metadata": {},
     "output_type": "execute_result"
    }
   ],
   "source": [
    "%%sql\n",
    "select \n",
    "  tablename \n",
    "from \n",
    "  pg_tables  \n",
    "where schemaname = 'f1db';"
   ]
  }
 ],
 "metadata": {
  "kernelspec": {
   "display_name": "Python 3",
   "language": "python",
   "name": "python3"
  },
  "language_info": {
   "codemirror_mode": {
    "name": "ipython",
    "version": 3
   },
   "file_extension": ".py",
   "mimetype": "text/x-python",
   "name": "python",
   "nbconvert_exporter": "python",
   "pygments_lexer": "ipython3",
   "version": "3.6.3"
  }
 },
 "nbformat": 4,
 "nbformat_minor": 2
}
